{
 "cells": [
  {
   "cell_type": "markdown",
   "metadata": {},
   "source": [
    "by ***Hoang Van Le***\n",
    "# Opal Peak Times visualisation using heatmaps\n",
    "The data are recordings of number of tap on and off at different bus location on 25 July, 8 August, 27 November 2016, and from 26 December 2016 to 1 January 2021."
   ]
  },
  {
   "cell_type": "code",
   "execution_count": 1,
   "metadata": {},
   "outputs": [],
   "source": [
    "import pandas as pd\n",
    "from datetime import datetime\n",
    "import seaborn as sns"
   ]
  },
  {
   "cell_type": "code",
   "execution_count": 2,
   "metadata": {},
   "outputs": [],
   "source": [
    "tap1 = pd.read_csv(\"data/Opal Tap On&Off/time_loc_20161121-27.csv\")\n",
    "tap2 = pd.read_csv(\"data/Opal Tap On&Off/time_loc_20161226-20170101.csv\")\n",
    "tap3 = pd.read_csv(\"data/Opal Tap On&Off/time-loc_20160725-31.csv\")\n",
    "tap4 = pd.read_csv(\"data/Opal Tap On&Off/time-loc_20160808-14.csv\")"
   ]
  },
  {
   "cell_type": "markdown",
   "metadata": {},
   "source": [
    "Splitting the data to multiple dataframes by tap on and off:"
   ]
  },
  {
   "cell_type": "code",
   "execution_count": 3,
   "metadata": {},
   "outputs": [],
   "source": [
    "bus_off_1 = tap1[(tap1['mode']==\"bus\") & (tap1['tap']==\"off\")]\n",
    "bus_off_2 = tap2[(tap2['mode']==\"bus\") & (tap2['tap']==\"off\")]\n",
    "bus_off_3 = tap3[(tap3['mode']==\"bus\") & (tap3['tap']==\"off\")]\n",
    "bus_off_4 = tap4[(tap4['mode']==\"bus\") & (tap4['tap']==\"off\")]\n",
    "\n",
    "bus_on_1 = tap1[(tap1['mode']==\"bus\") & (tap1['tap']==\"on\")]\n",
    "bus_on_2 = tap2[(tap2['mode']==\"bus\") & (tap2['tap']==\"on\")]\n",
    "bus_on_3 = tap3[(tap3['mode']==\"bus\") & (tap3['tap']==\"on\")]\n",
    "bus_on_4 = tap4[(tap4['mode']==\"bus\") & (tap4['tap']==\"on\")]\n"
   ]
  },
  {
   "cell_type": "markdown",
   "metadata": {},
   "source": [
    "Function to list common locations appeared in two series:"
   ]
  },
  {
   "cell_type": "code",
   "execution_count": 4,
   "metadata": {},
   "outputs": [],
   "source": [
    "def commonPostcodes(x,y):\n",
    "    fin = [postcode for postcode in x if postcode in y]\n",
    "    return fin"
   ]
  },
  {
   "cell_type": "markdown",
   "metadata": {},
   "source": [
    "Looking to common locations (PostCodes) in all dataframes - locations that appeeared in ll dataframes and in both tap on and off:"
   ]
  },
  {
   "cell_type": "code",
   "execution_count": 5,
   "metadata": {},
   "outputs": [],
   "source": [
    "#Common bus location tap off\n",
    "commoff_bus_loc = commonPostcodes(set(bus_off_1['loc']), set(bus_off_2['loc']))\n",
    "commoff_bus_loc = commonPostcodes(commoff_bus_loc, set(bus_off_3['loc']))\n",
    "commoff_bus_loc = commonPostcodes(commoff_bus_loc, set(bus_off_4['loc']))\n",
    "\n",
    "#Common bus location tap on\n",
    "common_bus_loc = commonPostcodes(set(bus_on_1['loc']), set(bus_on_2['loc']))\n",
    "common_bus_loc = commonPostcodes(common_bus_loc, set(bus_on_3['loc']))\n",
    "common_bus_loc = commonPostcodes(common_bus_loc, set(bus_on_4['loc'])) \n",
    "\n",
    "#common bus location in all datasets both tap on and off\n",
    "com_bus_loc = commonPostcodes(common_bus_loc, commoff_bus_loc)"
   ]
  },
  {
   "cell_type": "markdown",
   "metadata": {},
   "source": [
    "Looking for the more requently recorded location in tap1:"
   ]
  },
  {
   "cell_type": "code",
   "execution_count": 6,
   "metadata": {},
   "outputs": [],
   "source": [
    "#count (the number of rows) common bus location in tap1\n",
    "count_on = []\n",
    "count_off = []\n",
    "max_on = 0\n",
    "max_off = 0\n",
    "loc_max_on = \"\"\n",
    "loc_max_off = \"\"\n",
    "for i in com_bus_loc:\n",
    "    temp_count_on = 0\n",
    "    temp_count_off = 0\n",
    "    for j in bus_off_1['loc']:\n",
    "        if j == i:\n",
    "            temp_count_off = temp_count_off + 1\n",
    "            if temp_count_off > max_off:\n",
    "                max_off = temp_count_off\n",
    "                loc_max_off = i\n",
    "    count_off.append(temp_count_off)\n",
    "    for j in bus_on_1['loc']:\n",
    "        if j == i:\n",
    "            temp_count_on = temp_count_on + 1\n",
    "            if temp_count_on > max_on:\n",
    "                max_on = temp_count_on\n",
    "                loc_max_on = i\n",
    "    count_on.append(temp_count_on)"
   ]
  },
  {
   "cell_type": "code",
   "execution_count": 7,
   "metadata": {},
   "outputs": [
    {
     "name": "stdout",
     "output_type": "stream",
     "text": [
      "216 665 216 665\n",
      "2000 2000\n"
     ]
    }
   ],
   "source": [
    "print(len(count_on), max(count_on), len(count_off), max(count_off))\n",
    "print(loc_max_on, loc_max_off)"
   ]
  },
  {
   "cell_type": "markdown",
   "metadata": {},
   "source": [
    "### Choosing a location\n",
    "The most frequently recorded location in tap1 was 2000 at 665 counts in both mode tap on and off. We decide to work closely with this location from here.\n",
    "Creating dataframes for tap on location 2000 in tap1 and tap off location 2000 in tap1:"
   ]
  },
  {
   "cell_type": "code",
   "execution_count": 8,
   "metadata": {},
   "outputs": [],
   "source": [
    "result_on = bus_on_1[bus_on_1['loc']==\"2000\"]\n",
    "result_off = bus_off_1[bus_off_1['loc']==\"2000\"]"
   ]
  },
  {
   "cell_type": "markdown",
   "metadata": {},
   "source": [
    "Our idea is to create heatmaps to see the traffic trend of people using buses in those areas. Below are the steps we did to make 3 heatmaps:<br>\n",
    "(1) heatmap for the traffic tapping on.<br>\n",
    "(2) heatmap for the traffic tapping off.<br>\n",
    "(3) heatmap for the differences (on-off)."
   ]
  },
  {
   "cell_type": "code",
   "execution_count": 9,
   "metadata": {},
   "outputs": [],
   "source": [
    "Date = []\n",
    "for i in result_on['date']:\n",
    "    Date.append(str(i) + \" \")"
   ]
  },
  {
   "cell_type": "code",
   "execution_count": 10,
   "metadata": {},
   "outputs": [],
   "source": [
    "dateandtime = Date + result_on['time']"
   ]
  },
  {
   "cell_type": "markdown",
   "metadata": {},
   "source": [
    "We need a datetime column again."
   ]
  },
  {
   "cell_type": "code",
   "execution_count": 12,
   "metadata": {},
   "outputs": [],
   "source": [
    "import warnings\n",
    "warnings.filterwarnings('ignore')\n",
    "import datetime\n",
    "\n",
    "DateTime = []\n",
    "for i in dateandtime:\n",
    "    d = datetime.datetime.strptime(i, \"%Y%m%d %H:%M\")\n",
    "    DateTime.append(pd.to_datetime(d))"
   ]
  },
  {
   "cell_type": "code",
   "execution_count": 13,
   "metadata": {},
   "outputs": [],
   "source": [
    "result_on['DateTime'] = DateTime"
   ]
  },
  {
   "cell_type": "code",
   "execution_count": 14,
   "metadata": {},
   "outputs": [],
   "source": [
    "result_on.set_index('DateTime', inplace = True)\n"
   ]
  },
  {
   "cell_type": "code",
   "execution_count": 15,
   "metadata": {},
   "outputs": [],
   "source": [
    "on_hr = result_on['count'].resample('H').sum()"
   ]
  },
  {
   "cell_type": "code",
   "execution_count": 16,
   "metadata": {},
   "outputs": [],
   "source": [
    "time = on_hr.index.hour"
   ]
  },
  {
   "cell_type": "code",
   "execution_count": 17,
   "metadata": {},
   "outputs": [
    {
     "data": {
      "text/plain": [
       "Index(['Monday', 'Monday', 'Monday', 'Monday', 'Monday', 'Monday', 'Monday',\n",
       "       'Monday', 'Monday', 'Monday',\n",
       "       ...\n",
       "       'Sunday', 'Sunday', 'Sunday', 'Sunday', 'Sunday', 'Sunday', 'Sunday',\n",
       "       'Sunday', 'Sunday', 'Sunday'],\n",
       "      dtype='object', length=168)"
      ]
     },
     "execution_count": 17,
     "metadata": {},
     "output_type": "execute_result"
    }
   ],
   "source": [
    "day = pd.to_datetime([d.date() for d in on_hr.index])\n",
    "dayname = day.day_name()\n",
    "dayname"
   ]
  },
  {
   "cell_type": "code",
   "execution_count": 18,
   "metadata": {},
   "outputs": [],
   "source": [
    "on_hr = pd.DataFrame(on_hr)"
   ]
  },
  {
   "cell_type": "code",
   "execution_count": 19,
   "metadata": {},
   "outputs": [],
   "source": [
    "on_hr['Day Of Week'] = dayname\n",
    "on_hr['Hour of day'] = time"
   ]
  },
  {
   "cell_type": "code",
   "execution_count": 20,
   "metadata": {},
   "outputs": [
    {
     "data": {
      "text/html": [
       "<div>\n",
       "<style scoped>\n",
       "    .dataframe tbody tr th:only-of-type {\n",
       "        vertical-align: middle;\n",
       "    }\n",
       "\n",
       "    .dataframe tbody tr th {\n",
       "        vertical-align: top;\n",
       "    }\n",
       "\n",
       "    .dataframe thead th {\n",
       "        text-align: right;\n",
       "    }\n",
       "</style>\n",
       "<table border=\"1\" class=\"dataframe\">\n",
       "  <thead>\n",
       "    <tr style=\"text-align: right;\">\n",
       "      <th>Day Of Week</th>\n",
       "      <th>Friday</th>\n",
       "      <th>Monday</th>\n",
       "      <th>Saturday</th>\n",
       "      <th>Sunday</th>\n",
       "      <th>Thursday</th>\n",
       "      <th>Tuesday</th>\n",
       "      <th>Wednesday</th>\n",
       "    </tr>\n",
       "    <tr>\n",
       "      <th>Hour of day</th>\n",
       "      <th></th>\n",
       "      <th></th>\n",
       "      <th></th>\n",
       "      <th></th>\n",
       "      <th></th>\n",
       "      <th></th>\n",
       "      <th></th>\n",
       "    </tr>\n",
       "  </thead>\n",
       "  <tbody>\n",
       "    <tr>\n",
       "      <th>0</th>\n",
       "      <td>2421</td>\n",
       "      <td>733</td>\n",
       "      <td>2254</td>\n",
       "      <td>556</td>\n",
       "      <td>1233</td>\n",
       "      <td>867</td>\n",
       "      <td>839</td>\n",
       "    </tr>\n",
       "    <tr>\n",
       "      <th>1</th>\n",
       "      <td>1480</td>\n",
       "      <td>424</td>\n",
       "      <td>1737</td>\n",
       "      <td>456</td>\n",
       "      <td>849</td>\n",
       "      <td>488</td>\n",
       "      <td>583</td>\n",
       "    </tr>\n",
       "    <tr>\n",
       "      <th>2</th>\n",
       "      <td>1601</td>\n",
       "      <td>348</td>\n",
       "      <td>1643</td>\n",
       "      <td>381</td>\n",
       "      <td>691</td>\n",
       "      <td>344</td>\n",
       "      <td>408</td>\n",
       "    </tr>\n",
       "    <tr>\n",
       "      <th>3</th>\n",
       "      <td>977</td>\n",
       "      <td>208</td>\n",
       "      <td>1385</td>\n",
       "      <td>167</td>\n",
       "      <td>453</td>\n",
       "      <td>167</td>\n",
       "      <td>230</td>\n",
       "    </tr>\n",
       "    <tr>\n",
       "      <th>4</th>\n",
       "      <td>233</td>\n",
       "      <td>150</td>\n",
       "      <td>280</td>\n",
       "      <td>177</td>\n",
       "      <td>137</td>\n",
       "      <td>124</td>\n",
       "      <td>114</td>\n",
       "    </tr>\n",
       "  </tbody>\n",
       "</table>\n",
       "</div>"
      ],
      "text/plain": [
       "Day Of Week  Friday  Monday  Saturday  Sunday  Thursday  Tuesday  Wednesday\n",
       "Hour of day                                                                \n",
       "0              2421     733      2254     556      1233      867        839\n",
       "1              1480     424      1737     456       849      488        583\n",
       "2              1601     348      1643     381       691      344        408\n",
       "3               977     208      1385     167       453      167        230\n",
       "4               233     150       280     177       137      124        114"
      ]
     },
     "execution_count": 20,
     "metadata": {},
     "output_type": "execute_result"
    }
   ],
   "source": [
    "data = on_hr.pivot(index=\"Hour of day\", columns = \"Day Of Week\", values = \"count\")\n",
    "data.head()"
   ]
  },
  {
   "cell_type": "markdown",
   "metadata": {},
   "source": [
    "Making changes to the data so that we can develop heatmaps."
   ]
  },
  {
   "cell_type": "code",
   "execution_count": 21,
   "metadata": {},
   "outputs": [
    {
     "data": {
      "text/html": [
       "<div>\n",
       "<style scoped>\n",
       "    .dataframe tbody tr th:only-of-type {\n",
       "        vertical-align: middle;\n",
       "    }\n",
       "\n",
       "    .dataframe tbody tr th {\n",
       "        vertical-align: top;\n",
       "    }\n",
       "\n",
       "    .dataframe thead th {\n",
       "        text-align: right;\n",
       "    }\n",
       "</style>\n",
       "<table border=\"1\" class=\"dataframe\">\n",
       "  <thead>\n",
       "    <tr style=\"text-align: right;\">\n",
       "      <th>Day Of Week</th>\n",
       "      <th>Monday</th>\n",
       "      <th>Tuesday</th>\n",
       "      <th>Wednesday</th>\n",
       "      <th>Thursday</th>\n",
       "      <th>Friday</th>\n",
       "      <th>Saturday</th>\n",
       "      <th>Sunday</th>\n",
       "    </tr>\n",
       "    <tr>\n",
       "      <th>Hour of day</th>\n",
       "      <th></th>\n",
       "      <th></th>\n",
       "      <th></th>\n",
       "      <th></th>\n",
       "      <th></th>\n",
       "      <th></th>\n",
       "      <th></th>\n",
       "    </tr>\n",
       "  </thead>\n",
       "  <tbody>\n",
       "    <tr>\n",
       "      <th>0</th>\n",
       "      <td>733</td>\n",
       "      <td>867</td>\n",
       "      <td>839</td>\n",
       "      <td>1233</td>\n",
       "      <td>2421</td>\n",
       "      <td>2254</td>\n",
       "      <td>556</td>\n",
       "    </tr>\n",
       "    <tr>\n",
       "      <th>1</th>\n",
       "      <td>424</td>\n",
       "      <td>488</td>\n",
       "      <td>583</td>\n",
       "      <td>849</td>\n",
       "      <td>1480</td>\n",
       "      <td>1737</td>\n",
       "      <td>456</td>\n",
       "    </tr>\n",
       "    <tr>\n",
       "      <th>2</th>\n",
       "      <td>348</td>\n",
       "      <td>344</td>\n",
       "      <td>408</td>\n",
       "      <td>691</td>\n",
       "      <td>1601</td>\n",
       "      <td>1643</td>\n",
       "      <td>381</td>\n",
       "    </tr>\n",
       "    <tr>\n",
       "      <th>3</th>\n",
       "      <td>208</td>\n",
       "      <td>167</td>\n",
       "      <td>230</td>\n",
       "      <td>453</td>\n",
       "      <td>977</td>\n",
       "      <td>1385</td>\n",
       "      <td>167</td>\n",
       "    </tr>\n",
       "    <tr>\n",
       "      <th>4</th>\n",
       "      <td>150</td>\n",
       "      <td>124</td>\n",
       "      <td>114</td>\n",
       "      <td>137</td>\n",
       "      <td>233</td>\n",
       "      <td>280</td>\n",
       "      <td>177</td>\n",
       "    </tr>\n",
       "  </tbody>\n",
       "</table>\n",
       "</div>"
      ],
      "text/plain": [
       "Day Of Week  Monday  Tuesday  Wednesday  Thursday  Friday  Saturday  Sunday\n",
       "Hour of day                                                                \n",
       "0               733      867        839      1233    2421      2254     556\n",
       "1               424      488        583       849    1480      1737     456\n",
       "2               348      344        408       691    1601      1643     381\n",
       "3               208      167        230       453     977      1385     167\n",
       "4               150      124        114       137     233       280     177"
      ]
     },
     "execution_count": 21,
     "metadata": {},
     "output_type": "execute_result"
    }
   ],
   "source": [
    "order_col = ['Monday', 'Tuesday', 'Wednesday', 'Thursday', 'Friday', 'Saturday', 'Sunday']\n",
    "data = data.reindex(order_col, axis=1)\n",
    "data.head()"
   ]
  },
  {
   "cell_type": "markdown",
   "metadata": {},
   "source": [
    "### Heatmap for traffic tapping on\n",
    "*Interpretation at the end of section.*"
   ]
  },
  {
   "cell_type": "code",
   "execution_count": 24,
   "metadata": {},
   "outputs": [
    {
     "data": {
      "image/png": "[encoded data removed]",
      "text/plain": [
       "<Figure size 1152x648 with 2 Axes>"
      ]
     },
     "metadata": {
      "needs_background": "light"
     },
     "output_type": "display_data"
    }
   ],
   "source": [
    "import matplotlib.pyplot as plt\n",
    "plt.figure(figsize=(16,9))\n",
    "ax = sns.heatmap(data, square = True, cmap = 'YlOrRd')\n",
    "plt.show()"
   ]
  },
  {
   "cell_type": "markdown",
   "metadata": {},
   "source": [
    "Repeating the process for tap off data."
   ]
  },
  {
   "cell_type": "code",
   "execution_count": 25,
   "metadata": {},
   "outputs": [],
   "source": [
    "Date = []\n",
    "for i in result_off['date']:\n",
    "    Date.append(str(i) + \" \")"
   ]
  },
  {
   "cell_type": "code",
   "execution_count": 26,
   "metadata": {},
   "outputs": [],
   "source": [
    "dateandtime = Date + result_off['time']"
   ]
  },
  {
   "cell_type": "code",
   "execution_count": 27,
   "metadata": {},
   "outputs": [],
   "source": [
    "DateTime = []\n",
    "for i in dateandtime:\n",
    "    d = datetime.datetime.strptime(i, \"%Y%m%d %H:%M\")\n",
    "    DateTime.append(pd.to_datetime(d))"
   ]
  },
  {
   "cell_type": "code",
   "execution_count": 28,
   "metadata": {},
   "outputs": [],
   "source": [
    "result_off['DateTime'] = DateTime"
   ]
  },
  {
   "cell_type": "code",
   "execution_count": 29,
   "metadata": {},
   "outputs": [],
   "source": [
    "result_off.set_index('DateTime', inplace = True)"
   ]
  },
  {
   "cell_type": "code",
   "execution_count": 30,
   "metadata": {},
   "outputs": [],
   "source": [
    "off_hr = result_off['count'].resample('H').sum()"
   ]
  },
  {
   "cell_type": "code",
   "execution_count": 31,
   "metadata": {},
   "outputs": [],
   "source": [
    "time = off_hr.index.hour\n",
    "day = pd.to_datetime([d.date() for d in on_hr.index])\n",
    "dayname = day.day_name()"
   ]
  },
  {
   "cell_type": "code",
   "execution_count": 32,
   "metadata": {},
   "outputs": [
    {
     "data": {
      "text/html": [
       "<div>\n",
       "<style scoped>\n",
       "    .dataframe tbody tr th:only-of-type {\n",
       "        vertical-align: middle;\n",
       "    }\n",
       "\n",
       "    .dataframe tbody tr th {\n",
       "        vertical-align: top;\n",
       "    }\n",
       "\n",
       "    .dataframe thead th {\n",
       "        text-align: right;\n",
       "    }\n",
       "</style>\n",
       "<table border=\"1\" class=\"dataframe\">\n",
       "  <thead>\n",
       "    <tr style=\"text-align: right;\">\n",
       "      <th></th>\n",
       "      <th>count</th>\n",
       "    </tr>\n",
       "    <tr>\n",
       "      <th>DateTime</th>\n",
       "      <th></th>\n",
       "    </tr>\n",
       "  </thead>\n",
       "  <tbody>\n",
       "    <tr>\n",
       "      <th>2016-11-21 00:00:00</th>\n",
       "      <td>195</td>\n",
       "    </tr>\n",
       "    <tr>\n",
       "      <th>2016-11-21 01:00:00</th>\n",
       "      <td>135</td>\n",
       "    </tr>\n",
       "    <tr>\n",
       "      <th>2016-11-21 02:00:00</th>\n",
       "      <td>108</td>\n",
       "    </tr>\n",
       "    <tr>\n",
       "      <th>2016-11-21 03:00:00</th>\n",
       "      <td>127</td>\n",
       "    </tr>\n",
       "    <tr>\n",
       "      <th>2016-11-21 04:00:00</th>\n",
       "      <td>191</td>\n",
       "    </tr>\n",
       "  </tbody>\n",
       "</table>\n",
       "</div>"
      ],
      "text/plain": [
       "                     count\n",
       "DateTime                  \n",
       "2016-11-21 00:00:00    195\n",
       "2016-11-21 01:00:00    135\n",
       "2016-11-21 02:00:00    108\n",
       "2016-11-21 03:00:00    127\n",
       "2016-11-21 04:00:00    191"
      ]
     },
     "execution_count": 32,
     "metadata": {},
     "output_type": "execute_result"
    }
   ],
   "source": [
    "off_hr = pd.DataFrame(off_hr)\n",
    "off_hr.head()"
   ]
  },
  {
   "cell_type": "code",
   "execution_count": 33,
   "metadata": {},
   "outputs": [
    {
     "data": {
      "text/html": [
       "<div>\n",
       "<style scoped>\n",
       "    .dataframe tbody tr th:only-of-type {\n",
       "        vertical-align: middle;\n",
       "    }\n",
       "\n",
       "    .dataframe tbody tr th {\n",
       "        vertical-align: top;\n",
       "    }\n",
       "\n",
       "    .dataframe thead th {\n",
       "        text-align: right;\n",
       "    }\n",
       "</style>\n",
       "<table border=\"1\" class=\"dataframe\">\n",
       "  <thead>\n",
       "    <tr style=\"text-align: right;\">\n",
       "      <th></th>\n",
       "      <th>count</th>\n",
       "      <th>Day Of Week</th>\n",
       "      <th>Hour of day</th>\n",
       "    </tr>\n",
       "    <tr>\n",
       "      <th>DateTime</th>\n",
       "      <th></th>\n",
       "      <th></th>\n",
       "      <th></th>\n",
       "    </tr>\n",
       "  </thead>\n",
       "  <tbody>\n",
       "    <tr>\n",
       "      <th>2016-11-21 00:00:00</th>\n",
       "      <td>195</td>\n",
       "      <td>Monday</td>\n",
       "      <td>0</td>\n",
       "    </tr>\n",
       "    <tr>\n",
       "      <th>2016-11-21 01:00:00</th>\n",
       "      <td>135</td>\n",
       "      <td>Monday</td>\n",
       "      <td>1</td>\n",
       "    </tr>\n",
       "    <tr>\n",
       "      <th>2016-11-21 02:00:00</th>\n",
       "      <td>108</td>\n",
       "      <td>Monday</td>\n",
       "      <td>2</td>\n",
       "    </tr>\n",
       "    <tr>\n",
       "      <th>2016-11-21 03:00:00</th>\n",
       "      <td>127</td>\n",
       "      <td>Monday</td>\n",
       "      <td>3</td>\n",
       "    </tr>\n",
       "    <tr>\n",
       "      <th>2016-11-21 04:00:00</th>\n",
       "      <td>191</td>\n",
       "      <td>Monday</td>\n",
       "      <td>4</td>\n",
       "    </tr>\n",
       "  </tbody>\n",
       "</table>\n",
       "</div>"
      ],
      "text/plain": [
       "                     count Day Of Week  Hour of day\n",
       "DateTime                                           \n",
       "2016-11-21 00:00:00    195      Monday            0\n",
       "2016-11-21 01:00:00    135      Monday            1\n",
       "2016-11-21 02:00:00    108      Monday            2\n",
       "2016-11-21 03:00:00    127      Monday            3\n",
       "2016-11-21 04:00:00    191      Monday            4"
      ]
     },
     "execution_count": 33,
     "metadata": {},
     "output_type": "execute_result"
    }
   ],
   "source": [
    "off_hr['Day Of Week'] = dayname\n",
    "off_hr['Hour of day'] = time\n",
    "off_hr.head()"
   ]
  },
  {
   "cell_type": "code",
   "execution_count": 34,
   "metadata": {},
   "outputs": [
    {
     "data": {
      "text/html": [
       "<div>\n",
       "<style scoped>\n",
       "    .dataframe tbody tr th:only-of-type {\n",
       "        vertical-align: middle;\n",
       "    }\n",
       "\n",
       "    .dataframe tbody tr th {\n",
       "        vertical-align: top;\n",
       "    }\n",
       "\n",
       "    .dataframe thead th {\n",
       "        text-align: right;\n",
       "    }\n",
       "</style>\n",
       "<table border=\"1\" class=\"dataframe\">\n",
       "  <thead>\n",
       "    <tr style=\"text-align: right;\">\n",
       "      <th>Day Of Week</th>\n",
       "      <th>Friday</th>\n",
       "      <th>Monday</th>\n",
       "      <th>Saturday</th>\n",
       "      <th>Sunday</th>\n",
       "      <th>Thursday</th>\n",
       "      <th>Tuesday</th>\n",
       "      <th>Wednesday</th>\n",
       "    </tr>\n",
       "    <tr>\n",
       "      <th>Hour of day</th>\n",
       "      <th></th>\n",
       "      <th></th>\n",
       "      <th></th>\n",
       "      <th></th>\n",
       "      <th></th>\n",
       "      <th></th>\n",
       "      <th></th>\n",
       "    </tr>\n",
       "  </thead>\n",
       "  <tbody>\n",
       "    <tr>\n",
       "      <th>0</th>\n",
       "      <td>623</td>\n",
       "      <td>195</td>\n",
       "      <td>739</td>\n",
       "      <td>209</td>\n",
       "      <td>327</td>\n",
       "      <td>233</td>\n",
       "      <td>250</td>\n",
       "    </tr>\n",
       "    <tr>\n",
       "      <th>1</th>\n",
       "      <td>277</td>\n",
       "      <td>135</td>\n",
       "      <td>387</td>\n",
       "      <td>122</td>\n",
       "      <td>150</td>\n",
       "      <td>119</td>\n",
       "      <td>146</td>\n",
       "    </tr>\n",
       "    <tr>\n",
       "      <th>2</th>\n",
       "      <td>261</td>\n",
       "      <td>108</td>\n",
       "      <td>274</td>\n",
       "      <td>96</td>\n",
       "      <td>158</td>\n",
       "      <td>80</td>\n",
       "      <td>101</td>\n",
       "    </tr>\n",
       "    <tr>\n",
       "      <th>3</th>\n",
       "      <td>190</td>\n",
       "      <td>127</td>\n",
       "      <td>190</td>\n",
       "      <td>54</td>\n",
       "      <td>178</td>\n",
       "      <td>135</td>\n",
       "      <td>90</td>\n",
       "    </tr>\n",
       "    <tr>\n",
       "      <th>4</th>\n",
       "      <td>286</td>\n",
       "      <td>191</td>\n",
       "      <td>147</td>\n",
       "      <td>183</td>\n",
       "      <td>216</td>\n",
       "      <td>220</td>\n",
       "      <td>228</td>\n",
       "    </tr>\n",
       "  </tbody>\n",
       "</table>\n",
       "</div>"
      ],
      "text/plain": [
       "Day Of Week  Friday  Monday  Saturday  Sunday  Thursday  Tuesday  Wednesday\n",
       "Hour of day                                                                \n",
       "0               623     195       739     209       327      233        250\n",
       "1               277     135       387     122       150      119        146\n",
       "2               261     108       274      96       158       80        101\n",
       "3               190     127       190      54       178      135         90\n",
       "4               286     191       147     183       216      220        228"
      ]
     },
     "execution_count": 34,
     "metadata": {},
     "output_type": "execute_result"
    }
   ],
   "source": [
    "data = off_hr.pivot(index=\"Hour of day\", columns = \"Day Of Week\", values = \"count\")\n",
    "data.head()"
   ]
  },
  {
   "cell_type": "code",
   "execution_count": 35,
   "metadata": {},
   "outputs": [
    {
     "data": {
      "text/html": [
       "<div>\n",
       "<style scoped>\n",
       "    .dataframe tbody tr th:only-of-type {\n",
       "        vertical-align: middle;\n",
       "    }\n",
       "\n",
       "    .dataframe tbody tr th {\n",
       "        vertical-align: top;\n",
       "    }\n",
       "\n",
       "    .dataframe thead th {\n",
       "        text-align: right;\n",
       "    }\n",
       "</style>\n",
       "<table border=\"1\" class=\"dataframe\">\n",
       "  <thead>\n",
       "    <tr style=\"text-align: right;\">\n",
       "      <th>Day Of Week</th>\n",
       "      <th>Monday</th>\n",
       "      <th>Tuesday</th>\n",
       "      <th>Wednesday</th>\n",
       "      <th>Thursday</th>\n",
       "      <th>Friday</th>\n",
       "      <th>Saturday</th>\n",
       "      <th>Sunday</th>\n",
       "    </tr>\n",
       "    <tr>\n",
       "      <th>Hour of day</th>\n",
       "      <th></th>\n",
       "      <th></th>\n",
       "      <th></th>\n",
       "      <th></th>\n",
       "      <th></th>\n",
       "      <th></th>\n",
       "      <th></th>\n",
       "    </tr>\n",
       "  </thead>\n",
       "  <tbody>\n",
       "    <tr>\n",
       "      <th>0</th>\n",
       "      <td>195</td>\n",
       "      <td>233</td>\n",
       "      <td>250</td>\n",
       "      <td>327</td>\n",
       "      <td>623</td>\n",
       "      <td>739</td>\n",
       "      <td>209</td>\n",
       "    </tr>\n",
       "    <tr>\n",
       "      <th>1</th>\n",
       "      <td>135</td>\n",
       "      <td>119</td>\n",
       "      <td>146</td>\n",
       "      <td>150</td>\n",
       "      <td>277</td>\n",
       "      <td>387</td>\n",
       "      <td>122</td>\n",
       "    </tr>\n",
       "    <tr>\n",
       "      <th>2</th>\n",
       "      <td>108</td>\n",
       "      <td>80</td>\n",
       "      <td>101</td>\n",
       "      <td>158</td>\n",
       "      <td>261</td>\n",
       "      <td>274</td>\n",
       "      <td>96</td>\n",
       "    </tr>\n",
       "    <tr>\n",
       "      <th>3</th>\n",
       "      <td>127</td>\n",
       "      <td>135</td>\n",
       "      <td>90</td>\n",
       "      <td>178</td>\n",
       "      <td>190</td>\n",
       "      <td>190</td>\n",
       "      <td>54</td>\n",
       "    </tr>\n",
       "    <tr>\n",
       "      <th>4</th>\n",
       "      <td>191</td>\n",
       "      <td>220</td>\n",
       "      <td>228</td>\n",
       "      <td>216</td>\n",
       "      <td>286</td>\n",
       "      <td>147</td>\n",
       "      <td>183</td>\n",
       "    </tr>\n",
       "  </tbody>\n",
       "</table>\n",
       "</div>"
      ],
      "text/plain": [
       "Day Of Week  Monday  Tuesday  Wednesday  Thursday  Friday  Saturday  Sunday\n",
       "Hour of day                                                                \n",
       "0               195      233        250       327     623       739     209\n",
       "1               135      119        146       150     277       387     122\n",
       "2               108       80        101       158     261       274      96\n",
       "3               127      135         90       178     190       190      54\n",
       "4               191      220        228       216     286       147     183"
      ]
     },
     "execution_count": 35,
     "metadata": {},
     "output_type": "execute_result"
    }
   ],
   "source": [
    "order_col = ['Monday', 'Tuesday', 'Wednesday', 'Thursday', 'Friday', 'Saturday', 'Sunday']\n",
    "data = data.reindex(order_col, axis=1)\n",
    "data.head()"
   ]
  },
  {
   "cell_type": "markdown",
   "metadata": {},
   "source": [
    "### Heatmap for traffic tapping off\n",
    "*Interpretation at the end of section.*"
   ]
  },
  {
   "cell_type": "code",
   "execution_count": 36,
   "metadata": {},
   "outputs": [
    {
     "data": {
      "image/png": "[encoded data removed]",
      "text/plain": [
       "<Figure size 1152x648 with 2 Axes>"
      ]
     },
     "metadata": {
      "needs_background": "light"
     },
     "output_type": "display_data"
    }
   ],
   "source": [
    "plt.figure(figsize=(16,9))\n",
    "ax = sns.heatmap(data, square = True, cmap = 'YlOrRd')\n",
    "plt.show()"
   ]
  },
  {
   "cell_type": "markdown",
   "metadata": {},
   "source": [
    "And once again"
   ]
  },
  {
   "cell_type": "code",
   "execution_count": 37,
   "metadata": {},
   "outputs": [],
   "source": [
    "result_on_off = pd.DataFrame(result_on['count']-result_off['count'])"
   ]
  },
  {
   "cell_type": "code",
   "execution_count": 38,
   "metadata": {},
   "outputs": [],
   "source": [
    "on_off_hr = result_on_off['count'].resample('H').sum()"
   ]
  },
  {
   "cell_type": "code",
   "execution_count": 39,
   "metadata": {},
   "outputs": [
    {
     "data": {
      "text/html": [
       "<div>\n",
       "<style scoped>\n",
       "    .dataframe tbody tr th:only-of-type {\n",
       "        vertical-align: middle;\n",
       "    }\n",
       "\n",
       "    .dataframe tbody tr th {\n",
       "        vertical-align: top;\n",
       "    }\n",
       "\n",
       "    .dataframe thead th {\n",
       "        text-align: right;\n",
       "    }\n",
       "</style>\n",
       "<table border=\"1\" class=\"dataframe\">\n",
       "  <thead>\n",
       "    <tr style=\"text-align: right;\">\n",
       "      <th></th>\n",
       "      <th>count</th>\n",
       "    </tr>\n",
       "    <tr>\n",
       "      <th>DateTime</th>\n",
       "      <th></th>\n",
       "    </tr>\n",
       "  </thead>\n",
       "  <tbody>\n",
       "    <tr>\n",
       "      <th>2016-11-21 00:00:00</th>\n",
       "      <td>538.0</td>\n",
       "    </tr>\n",
       "    <tr>\n",
       "      <th>2016-11-21 01:00:00</th>\n",
       "      <td>289.0</td>\n",
       "    </tr>\n",
       "    <tr>\n",
       "      <th>2016-11-21 02:00:00</th>\n",
       "      <td>240.0</td>\n",
       "    </tr>\n",
       "    <tr>\n",
       "      <th>2016-11-21 03:00:00</th>\n",
       "      <td>81.0</td>\n",
       "    </tr>\n",
       "    <tr>\n",
       "      <th>2016-11-21 04:00:00</th>\n",
       "      <td>4.0</td>\n",
       "    </tr>\n",
       "  </tbody>\n",
       "</table>\n",
       "</div>"
      ],
      "text/plain": [
       "                     count\n",
       "DateTime                  \n",
       "2016-11-21 00:00:00  538.0\n",
       "2016-11-21 01:00:00  289.0\n",
       "2016-11-21 02:00:00  240.0\n",
       "2016-11-21 03:00:00   81.0\n",
       "2016-11-21 04:00:00    4.0"
      ]
     },
     "execution_count": 39,
     "metadata": {},
     "output_type": "execute_result"
    }
   ],
   "source": [
    "on_off_hr = pd.DataFrame(on_off_hr)\n",
    "on_off_hr.head()"
   ]
  },
  {
   "cell_type": "code",
   "execution_count": 40,
   "metadata": {},
   "outputs": [
    {
     "data": {
      "text/html": [
       "<div>\n",
       "<style scoped>\n",
       "    .dataframe tbody tr th:only-of-type {\n",
       "        vertical-align: middle;\n",
       "    }\n",
       "\n",
       "    .dataframe tbody tr th {\n",
       "        vertical-align: top;\n",
       "    }\n",
       "\n",
       "    .dataframe thead th {\n",
       "        text-align: right;\n",
       "    }\n",
       "</style>\n",
       "<table border=\"1\" class=\"dataframe\">\n",
       "  <thead>\n",
       "    <tr style=\"text-align: right;\">\n",
       "      <th></th>\n",
       "      <th>count</th>\n",
       "      <th>Day Of Week</th>\n",
       "      <th>Hour of day</th>\n",
       "    </tr>\n",
       "    <tr>\n",
       "      <th>DateTime</th>\n",
       "      <th></th>\n",
       "      <th></th>\n",
       "      <th></th>\n",
       "    </tr>\n",
       "  </thead>\n",
       "  <tbody>\n",
       "    <tr>\n",
       "      <th>2016-11-21 00:00:00</th>\n",
       "      <td>538.0</td>\n",
       "      <td>Monday</td>\n",
       "      <td>0</td>\n",
       "    </tr>\n",
       "    <tr>\n",
       "      <th>2016-11-21 01:00:00</th>\n",
       "      <td>289.0</td>\n",
       "      <td>Monday</td>\n",
       "      <td>1</td>\n",
       "    </tr>\n",
       "    <tr>\n",
       "      <th>2016-11-21 02:00:00</th>\n",
       "      <td>240.0</td>\n",
       "      <td>Monday</td>\n",
       "      <td>2</td>\n",
       "    </tr>\n",
       "    <tr>\n",
       "      <th>2016-11-21 03:00:00</th>\n",
       "      <td>81.0</td>\n",
       "      <td>Monday</td>\n",
       "      <td>3</td>\n",
       "    </tr>\n",
       "    <tr>\n",
       "      <th>2016-11-21 04:00:00</th>\n",
       "      <td>4.0</td>\n",
       "      <td>Monday</td>\n",
       "      <td>4</td>\n",
       "    </tr>\n",
       "  </tbody>\n",
       "</table>\n",
       "</div>"
      ],
      "text/plain": [
       "                     count Day Of Week  Hour of day\n",
       "DateTime                                           \n",
       "2016-11-21 00:00:00  538.0      Monday            0\n",
       "2016-11-21 01:00:00  289.0      Monday            1\n",
       "2016-11-21 02:00:00  240.0      Monday            2\n",
       "2016-11-21 03:00:00   81.0      Monday            3\n",
       "2016-11-21 04:00:00    4.0      Monday            4"
      ]
     },
     "execution_count": 40,
     "metadata": {},
     "output_type": "execute_result"
    }
   ],
   "source": [
    "on_off_hr['Day Of Week'] = dayname\n",
    "on_off_hr['Hour of day'] = time\n",
    "on_off_hr.head()"
   ]
  },
  {
   "cell_type": "code",
   "execution_count": 41,
   "metadata": {},
   "outputs": [
    {
     "data": {
      "text/html": [
       "<div>\n",
       "<style scoped>\n",
       "    .dataframe tbody tr th:only-of-type {\n",
       "        vertical-align: middle;\n",
       "    }\n",
       "\n",
       "    .dataframe tbody tr th {\n",
       "        vertical-align: top;\n",
       "    }\n",
       "\n",
       "    .dataframe thead th {\n",
       "        text-align: right;\n",
       "    }\n",
       "</style>\n",
       "<table border=\"1\" class=\"dataframe\">\n",
       "  <thead>\n",
       "    <tr style=\"text-align: right;\">\n",
       "      <th>Day Of Week</th>\n",
       "      <th>Friday</th>\n",
       "      <th>Monday</th>\n",
       "      <th>Saturday</th>\n",
       "      <th>Sunday</th>\n",
       "      <th>Thursday</th>\n",
       "      <th>Tuesday</th>\n",
       "      <th>Wednesday</th>\n",
       "    </tr>\n",
       "    <tr>\n",
       "      <th>Hour of day</th>\n",
       "      <th></th>\n",
       "      <th></th>\n",
       "      <th></th>\n",
       "      <th></th>\n",
       "      <th></th>\n",
       "      <th></th>\n",
       "      <th></th>\n",
       "    </tr>\n",
       "  </thead>\n",
       "  <tbody>\n",
       "    <tr>\n",
       "      <th>0</th>\n",
       "      <td>1798.0</td>\n",
       "      <td>538.0</td>\n",
       "      <td>1515.0</td>\n",
       "      <td>347.0</td>\n",
       "      <td>906.0</td>\n",
       "      <td>634.0</td>\n",
       "      <td>589.0</td>\n",
       "    </tr>\n",
       "    <tr>\n",
       "      <th>1</th>\n",
       "      <td>1203.0</td>\n",
       "      <td>289.0</td>\n",
       "      <td>1350.0</td>\n",
       "      <td>334.0</td>\n",
       "      <td>699.0</td>\n",
       "      <td>369.0</td>\n",
       "      <td>437.0</td>\n",
       "    </tr>\n",
       "    <tr>\n",
       "      <th>2</th>\n",
       "      <td>1340.0</td>\n",
       "      <td>240.0</td>\n",
       "      <td>1369.0</td>\n",
       "      <td>202.0</td>\n",
       "      <td>533.0</td>\n",
       "      <td>148.0</td>\n",
       "      <td>217.0</td>\n",
       "    </tr>\n",
       "    <tr>\n",
       "      <th>3</th>\n",
       "      <td>787.0</td>\n",
       "      <td>81.0</td>\n",
       "      <td>1195.0</td>\n",
       "      <td>44.0</td>\n",
       "      <td>275.0</td>\n",
       "      <td>122.0</td>\n",
       "      <td>53.0</td>\n",
       "    </tr>\n",
       "    <tr>\n",
       "      <th>4</th>\n",
       "      <td>-53.0</td>\n",
       "      <td>4.0</td>\n",
       "      <td>133.0</td>\n",
       "      <td>43.0</td>\n",
       "      <td>-39.0</td>\n",
       "      <td>-47.0</td>\n",
       "      <td>-63.0</td>\n",
       "    </tr>\n",
       "  </tbody>\n",
       "</table>\n",
       "</div>"
      ],
      "text/plain": [
       "Day Of Week  Friday  Monday  Saturday  Sunday  Thursday  Tuesday  Wednesday\n",
       "Hour of day                                                                \n",
       "0            1798.0   538.0    1515.0   347.0     906.0    634.0      589.0\n",
       "1            1203.0   289.0    1350.0   334.0     699.0    369.0      437.0\n",
       "2            1340.0   240.0    1369.0   202.0     533.0    148.0      217.0\n",
       "3             787.0    81.0    1195.0    44.0     275.0    122.0       53.0\n",
       "4             -53.0     4.0     133.0    43.0     -39.0    -47.0      -63.0"
      ]
     },
     "execution_count": 41,
     "metadata": {},
     "output_type": "execute_result"
    }
   ],
   "source": [
    "data = on_off_hr.pivot(index=\"Hour of day\", columns = \"Day Of Week\", values = \"count\")\n",
    "data.head()"
   ]
  },
  {
   "cell_type": "code",
   "execution_count": 42,
   "metadata": {},
   "outputs": [
    {
     "data": {
      "text/html": [
       "<div>\n",
       "<style scoped>\n",
       "    .dataframe tbody tr th:only-of-type {\n",
       "        vertical-align: middle;\n",
       "    }\n",
       "\n",
       "    .dataframe tbody tr th {\n",
       "        vertical-align: top;\n",
       "    }\n",
       "\n",
       "    .dataframe thead th {\n",
       "        text-align: right;\n",
       "    }\n",
       "</style>\n",
       "<table border=\"1\" class=\"dataframe\">\n",
       "  <thead>\n",
       "    <tr style=\"text-align: right;\">\n",
       "      <th>Day Of Week</th>\n",
       "      <th>Monday</th>\n",
       "      <th>Tuesday</th>\n",
       "      <th>Wednesday</th>\n",
       "      <th>Thursday</th>\n",
       "      <th>Friday</th>\n",
       "      <th>Saturday</th>\n",
       "      <th>Sunday</th>\n",
       "    </tr>\n",
       "    <tr>\n",
       "      <th>Hour of day</th>\n",
       "      <th></th>\n",
       "      <th></th>\n",
       "      <th></th>\n",
       "      <th></th>\n",
       "      <th></th>\n",
       "      <th></th>\n",
       "      <th></th>\n",
       "    </tr>\n",
       "  </thead>\n",
       "  <tbody>\n",
       "    <tr>\n",
       "      <th>0</th>\n",
       "      <td>538.0</td>\n",
       "      <td>634.0</td>\n",
       "      <td>589.0</td>\n",
       "      <td>906.0</td>\n",
       "      <td>1798.0</td>\n",
       "      <td>1515.0</td>\n",
       "      <td>347.0</td>\n",
       "    </tr>\n",
       "    <tr>\n",
       "      <th>1</th>\n",
       "      <td>289.0</td>\n",
       "      <td>369.0</td>\n",
       "      <td>437.0</td>\n",
       "      <td>699.0</td>\n",
       "      <td>1203.0</td>\n",
       "      <td>1350.0</td>\n",
       "      <td>334.0</td>\n",
       "    </tr>\n",
       "    <tr>\n",
       "      <th>2</th>\n",
       "      <td>240.0</td>\n",
       "      <td>148.0</td>\n",
       "      <td>217.0</td>\n",
       "      <td>533.0</td>\n",
       "      <td>1340.0</td>\n",
       "      <td>1369.0</td>\n",
       "      <td>202.0</td>\n",
       "    </tr>\n",
       "    <tr>\n",
       "      <th>3</th>\n",
       "      <td>81.0</td>\n",
       "      <td>122.0</td>\n",
       "      <td>53.0</td>\n",
       "      <td>275.0</td>\n",
       "      <td>787.0</td>\n",
       "      <td>1195.0</td>\n",
       "      <td>44.0</td>\n",
       "    </tr>\n",
       "    <tr>\n",
       "      <th>4</th>\n",
       "      <td>4.0</td>\n",
       "      <td>-47.0</td>\n",
       "      <td>-63.0</td>\n",
       "      <td>-39.0</td>\n",
       "      <td>-53.0</td>\n",
       "      <td>133.0</td>\n",
       "      <td>43.0</td>\n",
       "    </tr>\n",
       "  </tbody>\n",
       "</table>\n",
       "</div>"
      ],
      "text/plain": [
       "Day Of Week  Monday  Tuesday  Wednesday  Thursday  Friday  Saturday  Sunday\n",
       "Hour of day                                                                \n",
       "0             538.0    634.0      589.0     906.0  1798.0    1515.0   347.0\n",
       "1             289.0    369.0      437.0     699.0  1203.0    1350.0   334.0\n",
       "2             240.0    148.0      217.0     533.0  1340.0    1369.0   202.0\n",
       "3              81.0    122.0       53.0     275.0   787.0    1195.0    44.0\n",
       "4               4.0    -47.0      -63.0     -39.0   -53.0     133.0    43.0"
      ]
     },
     "execution_count": 42,
     "metadata": {},
     "output_type": "execute_result"
    }
   ],
   "source": [
    "data = data.reindex(order_col, axis=1)\n",
    "data.head()"
   ]
  },
  {
   "cell_type": "markdown",
   "metadata": {},
   "source": [
    "### Heatmap for traffic remaining in loc 2000 via bus\n",
    "*Interpretation at the end of section.*"
   ]
  },
  {
   "cell_type": "code",
   "execution_count": 43,
   "metadata": {},
   "outputs": [
    {
     "data": {
      "image/png": "[encoded data removed]",
      "text/plain": [
       "<Figure size 1152x648 with 2 Axes>"
      ]
     },
     "metadata": {
      "needs_background": "light"
     },
     "output_type": "display_data"
    }
   ],
   "source": [
    "plt.figure(figsize=(16,9))\n",
    "ax = sns.heatmap(data, square = True, cmap = 'brg')\n",
    "plt.show()"
   ]
  },
  {
   "cell_type": "markdown",
   "metadata": {},
   "source": [
    "***Interpretation:***\n",
    "* Both tap on and off peaked during weekdays. The traffic seemed a lot less during weekend.\n",
    "* While tap on peaked at at around 5pm from Monday to Friday (highest on Monday), tap off peaked at 8am in the morning. It's quite consistent from Monday to Friday. It's interesting that the number of tap off peaked at 8am in the morning, meaning there were high traffic leaving the areas (postcode 2000) at 8 am in the morning. Given that it's the city area, it seemed sensible.\n",
    "* The heatmap for the differences (tap on - tap off) shows the traffic flow in and out the areas by buses during that week in those areas. Traffic comming in peaked at around 5pm from Monday to Friday. Whereas the traffic going out peaked at 8 am in ther morning from Monday to Friday. The traffic during weekend seemed stable, and below 0, meaning people were leaving by bus more than they were coming in."
   ]
  }
 ],
 "metadata": {
  "kernelspec": {
   "display_name": "Python 3",
   "language": "python",
   "name": "python3"
  },
  "language_info": {
   "codemirror_mode": {
    "name": "ipython",
    "version": 3
   },
   "file_extension": ".py",
   "mimetype": "text/x-python",
   "name": "python",
   "nbconvert_exporter": "python",
   "pygments_lexer": "ipython3",
   "version": "3.7.6"
  }
 },
 "nbformat": 4,
 "nbformat_minor": 4
}
